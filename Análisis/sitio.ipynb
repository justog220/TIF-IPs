{
  "cells": [
    {
      "cell_type": "raw",
      "metadata": {},
      "source": [
        "---\n",
        "title: Análisis IPs\n",
        "author: Garcia Justo\n",
        "format:\n",
        "  html:\n",
        "    code-fold: false\n",
        "    toc: true\n",
        "  pdf: default\n",
        "number-sections: true\n",
        "---"
      ],
      "id": "3148eeab"
    },
    {
      "cell_type": "markdown",
      "metadata": {},
      "source": [
        "## Análisis de IPs reportadas como atacantes por SSH\n",
        "### Extracción de IPs\n",
        "Para la realización de este análisis la cátedra proporcionó una lista de IPs que fueron reportadas por conexiones SSH y ataques DDoS\n"
      ],
      "id": "12b34e72"
    },
    {
      "cell_type": "code",
      "metadata": {
        "tags": []
      },
      "source": [
        "import subprocess"
      ],
      "id": "d251693b",
      "execution_count": null,
      "outputs": []
    },
    {
      "cell_type": "code",
      "metadata": {
        "tags": []
      },
      "source": [
        "patron = \"[0-9]{1,3}\\.[0-9]{1,3}\\.[0-9]{1,3}\\.[0-9]{1,3}\"\n",
        "!grep -Eo \"$patron\" data/SSH.txt > data/IPsSSH.txt"
      ],
      "id": "9eb8e6dd",
      "execution_count": null,
      "outputs": []
    },
    {
      "cell_type": "code",
      "metadata": {
        "tags": []
      },
      "source": [
        "with open(\"data/IPsSSH.txt\") as ips:\n",
        "    ipSSH = ips.read()\n",
        "    \n",
        "ipSSH = ipSSH.replace(\"\\n\", \" \").split()\n",
        "ipSSH"
      ],
      "id": "dc12ebae",
      "execution_count": null,
      "outputs": []
    },
    {
      "cell_type": "markdown",
      "metadata": {},
      "source": [
        "### Importamos la implementación de las peticiones a la API\n"
      ],
      "id": "5e0435fd"
    },
    {
      "cell_type": "code",
      "metadata": {
        "tags": []
      },
      "source": [
        "#| code-fold: true\n",
        "!mkdir modulos\n",
        "!cp ../app/modulos/abuseIPDB.py modulos/abuseIPDB.py"
      ],
      "id": "03d5ba57",
      "execution_count": null,
      "outputs": []
    },
    {
      "cell_type": "code",
      "metadata": {
        "tags": []
      },
      "source": [
        "#Importo los modulos necesarios\n",
        "from modulos.abuseIPDB import AbuseIPDB\n",
        "import pandas as pd"
      ],
      "id": "9047ef7f",
      "execution_count": null,
      "outputs": []
    },
    {
      "cell_type": "code",
      "metadata": {
        "tags": []
      },
      "source": [
        "#Construyo el objeto\n",
        "apiAbuse = AbuseIPDB()"
      ],
      "id": "b11c7d99",
      "execution_count": null,
      "outputs": []
    },
    {
      "cell_type": "code",
      "metadata": {
        "tags": []
      },
      "source": [
        "#Declaro las keys de la info que devuelve mi implementación de requests\n",
        "keys = ['esPublica', 'estaEnWhitelist', 'scoreAbuso', 'pais', 'codigoPais']\n",
        "\n",
        "diccDf = {'ip' : []}\n",
        "\n",
        "for ip in ipSSH:\n",
        "    diccDf['ip'].append(ip)\n",
        "    info = apiAbuse.getInfo(ip)\n",
        "    for key in keys:\n",
        "        if key in diccDf:\n",
        "            diccDf[key].append(info[key])\n",
        "        else:\n",
        "            diccDf[key] = [info[key]]\n"
      ],
      "id": "28179619",
      "execution_count": null,
      "outputs": []
    },
    {
      "cell_type": "code",
      "metadata": {
        "tags": []
      },
      "source": [
        "df = pd.DataFrame(data=diccDf)\n",
        "df"
      ],
      "id": "5441c6dd",
      "execution_count": null,
      "outputs": []
    },
    {
      "cell_type": "code",
      "metadata": {
        "tags": []
      },
      "source": [
        "import pycountry"
      ],
      "id": "8499842e",
      "execution_count": null,
      "outputs": []
    },
    {
      "cell_type": "code",
      "metadata": {
        "tags": []
      },
      "source": [
        "df['pais'] = df['codigoPais'].apply(lambda codigo: pycountry.countries.get(alpha_2=codigo).name)\n",
        "dfgdp = df.copy()\n",
        "dfgdp['codigoPais'] = df['pais'].apply(lambda nombre: pycountry.countries.search_fuzzy(nombre)[0].alpha_3)"
      ],
      "id": "6b81e28d",
      "execution_count": null,
      "outputs": []
    },
    {
      "cell_type": "code",
      "metadata": {
        "tags": []
      },
      "source": [
        "dfgdp"
      ],
      "id": "16e81ee6",
      "execution_count": null,
      "outputs": []
    },
    {
      "cell_type": "code",
      "metadata": {
        "tags": []
      },
      "source": [
        "print(dfgdp[\"codigoPais\"].loc[~dfgdp[\"codigoPais\"].isin(mapa[\"iso_a3\"])])"
      ],
      "id": "fd9fa8c2",
      "execution_count": null,
      "outputs": []
    },
    {
      "cell_type": "code",
      "metadata": {
        "tags": []
      },
      "source": [
        "import geopandas as gpd\n",
        "import matplotlib.pyplot as plt\n",
        "\n",
        "mapa = gpd.read_file(gpd.datasets.get_path('naturalearth_lowres'))"
      ],
      "id": "c8f3c032",
      "execution_count": null,
      "outputs": []
    },
    {
      "cell_type": "markdown",
      "metadata": {},
      "source": [
        "::: {.callout-note header=false}\n",
        "Todas estas librerias utilizan convenciones, por lo cual es importante checkear que esten presentes todos los paises que queremos plotear\n",
        ":::\n"
      ],
      "id": "223b9089"
    },
    {
      "cell_type": "code",
      "metadata": {
        "tags": []
      },
      "source": [
        "#| code-fold: true\n",
        "import numpy as np"
      ],
      "id": "a659f725",
      "execution_count": null,
      "outputs": []
    },
    {
      "cell_type": "code",
      "metadata": {
        "tags": []
      },
      "source": [
        "print(np.unique(dfgdp[\"codigoPais\"].loc[~dfgdp[\"codigoPais\"].isin(mapa[\"iso_a3\"])]))"
      ],
      "id": "d3d72d0e",
      "execution_count": null,
      "outputs": []
    },
    {
      "cell_type": "markdown",
      "metadata": {},
      "source": [
        "Pude notar que tanto Hong Kong, como Singapur no estan representadas en el mapa mundi por ser ciudades. Por ello, debo cargarlas desde otro dataset\n"
      ],
      "id": "605642f3"
    },
    {
      "cell_type": "code",
      "metadata": {
        "tags": []
      },
      "source": [
        "#| label: fig-mapa\n",
        "#| fig-cap: Mapa con los lugares del que proceden las IPs\n",
        "paisesMarcados = mapa[mapa['iso_a3'].isin(dfgdp[\"codigoPais\"])]\n",
        "\n",
        "fig, ax = plt.subplots(figsize=(15, 10))\n",
        "\n",
        "mapa.plot(ax=ax, edgecolor='grey', color='lightgrey')\n",
        "paisesMarcados.plot(ax=ax, edgecolor='black', color='red')\n",
        "\n",
        "ciudades = gpd.read_file(gpd.datasets.get_path('naturalearth_cities'))\n",
        "\n",
        "singapur = ciudades[ciudades['name'] == 'Singapore']\n",
        "hongkong = ciudades[ciudades['name'] == 'Hong Kong']\n",
        "\n",
        "singapur.plot(ax=ax, edgecolor='black', color='blue')\n",
        "hongkong.plot(ax=ax, edgecolor='black', color='blue')\n",
        "\n",
        "plt.show()"
      ],
      "id": "fig-mapa",
      "execution_count": null,
      "outputs": []
    },
    {
      "cell_type": "code",
      "metadata": {
        "tags": []
      },
      "source": [
        "import seaborn as sns"
      ],
      "id": "03b75626",
      "execution_count": null,
      "outputs": []
    },
    {
      "cell_type": "code",
      "metadata": {
        "tags": []
      },
      "source": [
        "sns.set(style='darkgrid')\n",
        "sns.countplot(data=dfgdp, y=\"codigoPais\")\n",
        "ylabel = plt.ylabel(\"Pais\", rotation='horizontal')\n",
        "plt.xlabel(\"Reportes\")\n",
        "plt.show()"
      ],
      "id": "b8bef12b",
      "execution_count": null,
      "outputs": []
    },
    {
      "cell_type": "code",
      "metadata": {
        "tags": []
      },
      "source": [
        "recuento = df[\"pais\"].value_counts().to_dict()\n",
        "\n",
        "pd.DataFrame(data={\"Pais\": list(recuento.keys()), \"Reportes\": list(recuento.values())})"
      ],
      "id": "8e66b996",
      "execution_count": null,
      "outputs": []
    }
  ],
  "metadata": {
    "kernelspec": {
      "name": "python3",
      "language": "python",
      "display_name": "Python 3 (ipykernel)"
    }
  },
  "nbformat": 4,
  "nbformat_minor": 5
}